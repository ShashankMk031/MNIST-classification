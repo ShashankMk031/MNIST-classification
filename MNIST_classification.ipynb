{
  "nbformat": 4,
  "nbformat_minor": 0,
  "metadata": {
    "colab": {
      "provenance": [],
      "authorship_tag": "ABX9TyMLRiSfUBjJD3zKP75009Xg"
    },
    "kernelspec": {
      "name": "python3",
      "display_name": "Python 3"
    },
    "language_info": {
      "name": "python"
    }
  },
  "cells": [
    {
      "cell_type": "code",
      "execution_count": 1,
      "metadata": {
        "id": "iTqyEDLj9eF-"
      },
      "outputs": [],
      "source": [
        "from sklearn.datasets import fetch_openml #Loading the MNIST data\n",
        "mnist = fetch_openml('mnist_784', version = 1)"
      ]
    },
    {
      "cell_type": "code",
      "source": [
        "mnist.keys()"
      ],
      "metadata": {
        "colab": {
          "base_uri": "https://localhost:8080/"
        },
        "id": "YdU_sxjL-MGm",
        "outputId": "4908f08e-1e6e-4d77-cd40-853bb140bc22"
      },
      "execution_count": 2,
      "outputs": [
        {
          "output_type": "execute_result",
          "data": {
            "text/plain": [
              "dict_keys(['data', 'target', 'frame', 'categories', 'feature_names', 'target_names', 'DESCR', 'details', 'url'])"
            ]
          },
          "metadata": {},
          "execution_count": 2
        }
      ]
    },
    {
      "cell_type": "code",
      "source": [
        "X, y = mnist['data'] , mnist['target']\n",
        "print(\"Data shape : \", X.shape) #There are 70,000 images and each image has 784 features(28 X 28 pixels)\n",
        "print(\"Target Shape: \", y.shape)"
      ],
      "metadata": {
        "colab": {
          "base_uri": "https://localhost:8080/"
        },
        "id": "yGxAEMMF-PbR",
        "outputId": "b132d70b-0981-4dbf-f19b-4bf240e72668"
      },
      "execution_count": 3,
      "outputs": [
        {
          "output_type": "stream",
          "name": "stdout",
          "text": [
            "Data shape :  (70000, 784)\n",
            "Target Shape:  (70000,)\n"
          ]
        }
      ]
    },
    {
      "cell_type": "code",
      "source": [],
      "metadata": {
        "id": "pAavgiJF-eZb"
      },
      "execution_count": null,
      "outputs": []
    }
  ]
}